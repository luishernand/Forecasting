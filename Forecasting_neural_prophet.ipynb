{
  "nbformat": 4,
  "nbformat_minor": 0,
  "metadata": {
    "colab": {
      "name": "Forecasting neural prophet.ipynb",
      "private_outputs": true,
      "provenance": [],
      "authorship_tag": "ABX9TyMB7BZqf9Mki1xonVFJN4d9",
      "include_colab_link": true
    },
    "kernelspec": {
      "name": "python3",
      "display_name": "Python 3"
    },
    "language_info": {
      "name": "python"
    }
  },
  "cells": [
    {
      "cell_type": "markdown",
      "metadata": {
        "id": "view-in-github",
        "colab_type": "text"
      },
      "source": [
        "<a href=\"https://colab.research.google.com/github/luishernand/Forecasting/blob/main/Forecasting_neural_prophet.ipynb\" target=\"_parent\"><img src=\"https://colab.research.google.com/assets/colab-badge.svg\" alt=\"Open In Colab\"/></a>"
      ]
    },
    {
      "cell_type": "markdown",
      "metadata": {
        "id": "QwGDwT-T9vqq"
      },
      "source": [
        "## 0. Install and import Depedencies"
      ]
    },
    {
      "cell_type": "code",
      "metadata": {
        "id": "3BSNA0qR-ZIX"
      },
      "source": [
        "!pip install neuralprophet"
      ],
      "execution_count": null,
      "outputs": []
    },
    {
      "cell_type": "code",
      "metadata": {
        "id": "Lns1w43O-G3K"
      },
      "source": [
        "from neuralprophet import NeuralProphet\n",
        "import pandas as pd\n",
        "import matplotlib.pyplot as plt"
      ],
      "execution_count": null,
      "outputs": []
    },
    {
      "cell_type": "markdown",
      "metadata": {
        "id": "f3VTqs3X-YO9"
      },
      "source": [
        "## 1. Read Data and process"
      ]
    },
    {
      "cell_type": "code",
      "metadata": {
        "id": "OnGnooJ9_RjW"
      },
      "source": [
        "from google.colab import files\n",
        "files.upload()"
      ],
      "execution_count": null,
      "outputs": []
    },
    {
      "cell_type": "code",
      "metadata": {
        "id": "nlP-Li6j_XnG"
      },
      "source": [
        "df = pd.read_csv('weatherAUS.csv')\n",
        "df.head()"
      ],
      "execution_count": null,
      "outputs": []
    },
    {
      "cell_type": "code",
      "metadata": {
        "id": "jC4kDbKRAIq5"
      },
      "source": [
        "len(df['Location'].unique())"
      ],
      "execution_count": null,
      "outputs": []
    },
    {
      "cell_type": "code",
      "metadata": {
        "id": "sDquuLIyANqq"
      },
      "source": [
        "# Select location  = Albury\n",
        "albury = df[df['Location']=='Albury']"
      ],
      "execution_count": null,
      "outputs": []
    },
    {
      "cell_type": "code",
      "metadata": {
        "id": "BTi-1vEtCcgj"
      },
      "source": [
        "# Convert Date columns to date time\n",
        "albury['Date'] = pd.to_datetime(df['Date'])"
      ],
      "execution_count": null,
      "outputs": []
    },
    {
      "cell_type": "markdown",
      "metadata": {
        "id": "YRCO60IOC2aL"
      },
      "source": [
        "### Plot data"
      ]
    },
    {
      "cell_type": "code",
      "metadata": {
        "id": "-yG8cicADbmX"
      },
      "source": [
        "plt.plot(albury['Date'],albury['Temp3pm'] )\n",
        "plt.show()"
      ],
      "execution_count": null,
      "outputs": []
    },
    {
      "cell_type": "code",
      "metadata": {
        "id": "IILZEnRyDowx"
      },
      "source": [
        "albury[['Date', 'Temp3pm']].isnull().sum()"
      ],
      "execution_count": null,
      "outputs": []
    },
    {
      "cell_type": "code",
      "metadata": {
        "id": "dt_Sswr2D7LF"
      },
      "source": [
        "data = albury[['Date', 'Temp3pm']]\n",
        "data.dropna(inplace= True)"
      ],
      "execution_count": null,
      "outputs": []
    },
    {
      "cell_type": "code",
      "metadata": {
        "id": "YrmbB1RpEWQi"
      },
      "source": [
        "plt.plot(data['Date'], data['Temp3pm'])\n",
        "plt.show()"
      ],
      "execution_count": null,
      "outputs": []
    },
    {
      "cell_type": "code",
      "metadata": {
        "id": "ozyzx3ziEpWN"
      },
      "source": [
        "data.columns = ['ds', 'y']\n",
        "data.head()"
      ],
      "execution_count": null,
      "outputs": []
    },
    {
      "cell_type": "code",
      "metadata": {
        "id": "3AJedKtrE1kE"
      },
      "source": [
        "data.tail()"
      ],
      "execution_count": null,
      "outputs": []
    },
    {
      "cell_type": "markdown",
      "metadata": {
        "id": "GQkBbZbhE4Ds"
      },
      "source": [
        "## 2. Model"
      ]
    },
    {
      "cell_type": "code",
      "metadata": {
        "id": "HkNcCiaAE-Zp"
      },
      "source": [
        "m = NeuralProphet()"
      ],
      "execution_count": null,
      "outputs": []
    },
    {
      "cell_type": "code",
      "metadata": {
        "id": "dGPIDbNyFInp"
      },
      "source": [
        "model = m.fit(data, freq='D', epochs=10)"
      ],
      "execution_count": null,
      "outputs": []
    },
    {
      "cell_type": "markdown",
      "metadata": {
        "id": "zDhUKAsmFQmX"
      },
      "source": [
        "## 3. Forecast Away"
      ]
    },
    {
      "cell_type": "code",
      "metadata": {
        "id": "GoeTzEEZFXF1"
      },
      "source": [
        "future = m.make_future_dataframe(data, periods=1500)\n",
        "forecast = m.predict(future)\n",
        "forecast.head()"
      ],
      "execution_count": null,
      "outputs": []
    },
    {
      "cell_type": "code",
      "metadata": {
        "id": "gobCrWo7Fq2O"
      },
      "source": [
        "forecast.tail()"
      ],
      "execution_count": null,
      "outputs": []
    },
    {
      "cell_type": "code",
      "metadata": {
        "id": "GzvWprPLFwuJ"
      },
      "source": [
        "plot1 = m.plot(forecast)"
      ],
      "execution_count": null,
      "outputs": []
    },
    {
      "cell_type": "code",
      "metadata": {
        "id": "ahti25vpGGcC"
      },
      "source": [
        "plot2 = m.plot_components(forecast)"
      ],
      "execution_count": null,
      "outputs": []
    },
    {
      "cell_type": "markdown",
      "metadata": {
        "id": "9a_D5KOtGP_7"
      },
      "source": [
        "## 4. Save Model"
      ]
    },
    {
      "cell_type": "code",
      "metadata": {
        "id": "Q8NmHMI9GV8W"
      },
      "source": [
        "import joblib\n",
        "import pickle"
      ],
      "execution_count": null,
      "outputs": []
    },
    {
      "cell_type": "code",
      "metadata": {
        "id": "P1jr97AOGhCM"
      },
      "source": [
        "# Save model\n",
        "with open('saved_model.pkl', 'wb') as f:\n",
        "  pickle.dump(m,f)"
      ],
      "execution_count": null,
      "outputs": []
    },
    {
      "cell_type": "code",
      "metadata": {
        "id": "gFnE-UcbGvsM"
      },
      "source": [
        "# load model\n",
        "with open('saved_model.pkl', 'rb') as f:\n",
        "  model_pkl = pickle.load(f)"
      ],
      "execution_count": null,
      "outputs": []
    },
    {
      "cell_type": "code",
      "metadata": {
        "id": "ZIV7Sb7hG5oe"
      },
      "source": [
        "future1 = model_pkl.make_future_dataframe(data, periods=300)\n",
        "forecast1 = model_pkl.predict(future1)\n",
        "forecast1.head()"
      ],
      "execution_count": null,
      "outputs": []
    },
    {
      "cell_type": "code",
      "metadata": {
        "id": "tnrVBHT0HVX1"
      },
      "source": [
        "forecast_1.tail()"
      ],
      "execution_count": null,
      "outputs": []
    },
    {
      "cell_type": "code",
      "metadata": {
        "id": "0n-oNkOLHaP9"
      },
      "source": [
        "plot4 = model_pkl.plot(forecast1)"
      ],
      "execution_count": null,
      "outputs": []
    },
    {
      "cell_type": "code",
      "metadata": {
        "id": "BQbqZLs5L23N"
      },
      "source": [
        "plot5 = model_pkl.plot_components(forecast1)"
      ],
      "execution_count": null,
      "outputs": []
    }
  ]
}