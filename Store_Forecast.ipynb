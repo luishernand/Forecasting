{
  "nbformat": 4,
  "nbformat_minor": 0,
  "metadata": {
    "colab": {
      "name": "Store Forecast.ipynb",
      "private_outputs": true,
      "provenance": [],
      "toc_visible": true,
      "authorship_tag": "ABX9TyMvPlD+KNIRn3Xur/ZE618M",
      "include_colab_link": true
    },
    "kernelspec": {
      "name": "python3",
      "display_name": "Python 3"
    },
    "language_info": {
      "name": "python"
    }
  },
  "cells": [
    {
      "cell_type": "markdown",
      "metadata": {
        "id": "view-in-github",
        "colab_type": "text"
      },
      "source": [
        "<a href=\"https://colab.research.google.com/github/luishernand/Forecasting/blob/main/Store_Forecast.ipynb\" target=\"_parent\"><img src=\"https://colab.research.google.com/assets/colab-badge.svg\" alt=\"Open In Colab\"/></a>"
      ]
    },
    {
      "cell_type": "markdown",
      "metadata": {
        "id": "nqKcoUqNp_rb"
      },
      "source": [
        "# Store Forecast Kaglle"
      ]
    },
    {
      "cell_type": "code",
      "metadata": {
        "id": "arxmkGKJqkKM"
      },
      "source": [
        "from IPython.display import Image\n",
        "Image(filename='descarga.png')"
      ],
      "execution_count": null,
      "outputs": []
    },
    {
      "cell_type": "markdown",
      "metadata": {
        "id": "Ngnxz5VbqJX2"
      },
      "source": [
        "## 0. Dependencies"
      ]
    },
    {
      "cell_type": "code",
      "metadata": {
        "id": "QXtzlrBZqOR-"
      },
      "source": [
        "import pandas as pd\n",
        "import numpy as np\n",
        "import seaborn as sns\n",
        "import matplotlib.pyplot as plt"
      ],
      "execution_count": null,
      "outputs": []
    },
    {
      "cell_type": "markdown",
      "metadata": {
        "id": "updg0ui4rCRg"
      },
      "source": [
        "## 1. Load dataset  \n",
        "+ https://www.kaggle.com/c/demand-forecasting-kernels-only/data"
      ]
    },
    {
      "cell_type": "code",
      "metadata": {
        "id": "ggA121Oop-uF"
      },
      "source": [
        "from google.colab import files\n",
        "files.upload()"
      ],
      "execution_count": null,
      "outputs": []
    },
    {
      "cell_type": "code",
      "metadata": {
        "id": "2r4S1-f5rSIT"
      },
      "source": [
        "train = pd.read_csv('train.csv', parse_dates=['date'])\n",
        "test = pd.read_csv('test.csv', parse_dates=['date'])\n",
        "submission = pd.read_csv('sample_submission.csv')"
      ],
      "execution_count": null,
      "outputs": []
    },
    {
      "cell_type": "markdown",
      "metadata": {
        "id": "lZKSISMcxt-L"
      },
      "source": [
        "## 2. Data Understanding"
      ]
    },
    {
      "cell_type": "code",
      "metadata": {
        "id": "dd4vgAEDvhR0"
      },
      "source": [
        "train.head(2)"
      ],
      "execution_count": null,
      "outputs": []
    },
    {
      "cell_type": "code",
      "metadata": {
        "id": "c7ttBDJTvpOm"
      },
      "source": [
        "# view structure of test\n",
        "test.head(2)"
      ],
      "execution_count": null,
      "outputs": []
    },
    {
      "cell_type": "code",
      "metadata": {
        "id": "hi0Tzr-N3RcK"
      },
      "source": [
        "test.tail()"
      ],
      "execution_count": null,
      "outputs": []
    },
    {
      "cell_type": "code",
      "metadata": {
        "id": "ONra3EVW3D42"
      },
      "source": [
        "submission.head(2)"
      ],
      "execution_count": null,
      "outputs": []
    },
    {
      "cell_type": "code",
      "metadata": {
        "id": "kzZ0r_qGwGsL"
      },
      "source": [
        "print('Train Size:', train.shape)\n",
        "print('Test Size:', test.shape)\n",
        "print('Sample data:', submission.shape)"
      ],
      "execution_count": null,
      "outputs": []
    },
    {
      "cell_type": "code",
      "metadata": {
        "id": "bEYoPbCAwYvD"
      },
      "source": [
        "print('Train Types======>', train.dtypes)\n",
        "\n",
        "print('--------------')\n",
        "print('Test Types:')\n",
        "test.dtypes"
      ],
      "execution_count": null,
      "outputs": []
    },
    {
      "cell_type": "code",
      "metadata": {
        "id": "PaF3duZewgq6"
      },
      "source": [
        "print('Train Missing Values ===>', train.isnull().sum())\n",
        "print('===============================================')\n",
        "print('Test Missing Values ===>', test.isnull().sum())"
      ],
      "execution_count": null,
      "outputs": []
    },
    {
      "cell_type": "code",
      "metadata": {
        "id": "6qo4VIhhxHE_"
      },
      "source": [
        "# Drop missig values\n",
        "train.dropna(inplace=True)"
      ],
      "execution_count": null,
      "outputs": []
    },
    {
      "cell_type": "markdown",
      "metadata": {
        "id": "8Y6Uqp6SxmCk"
      },
      "source": [
        "## 3 . Data Anlysis"
      ]
    },
    {
      "cell_type": "code",
      "metadata": {
        "id": "UCw87IUux3P4"
      },
      "source": [
        "train.describe().T"
      ],
      "execution_count": null,
      "outputs": []
    },
    {
      "cell_type": "code",
      "metadata": {
        "id": "-kj2uJdrx6Ze"
      },
      "source": [
        "train.groupby('store')['item'].size()"
      ],
      "execution_count": null,
      "outputs": []
    },
    {
      "cell_type": "code",
      "metadata": {
        "id": "aXs03-ZWyCki"
      },
      "source": [
        "plt.figure(figsize=(10,6))\n",
        "sns.barplot(x = 'store', y = 'item', data = train, ci=None).set_title('How Many itmes per store')\n",
        "plt.show()"
      ],
      "execution_count": null,
      "outputs": []
    },
    {
      "cell_type": "code",
      "metadata": {
        "id": "0PhiIAVPyk3B"
      },
      "source": [
        "# Avg Sales per store\n",
        "train.groupby('store')['sales'].mean().sort_values(ascending=False)"
      ],
      "execution_count": null,
      "outputs": []
    },
    {
      "cell_type": "code",
      "metadata": {
        "id": "hijWSTUJzNy2"
      },
      "source": [
        "plt.figure(figsize=(10,6))\n",
        "sns.barplot(x = 'store', y = 'sales', data = train, ci=None).set_title('Sales per store')\n",
        "plt.show()"
      ],
      "execution_count": null,
      "outputs": []
    },
    {
      "cell_type": "code",
      "metadata": {
        "id": "7H8893rRzUg7"
      },
      "source": [
        "to_plot = train.set_index('date')\n",
        "to_plot[to_plot['store']==1]['sales'].plot.line();"
      ],
      "execution_count": null,
      "outputs": []
    },
    {
      "cell_type": "code",
      "metadata": {
        "id": "sOh1_rRT0Akl"
      },
      "source": [
        "train.groupby(['store', 'item'])['sales'].mean().plot()"
      ],
      "execution_count": null,
      "outputs": []
    },
    {
      "cell_type": "markdown",
      "metadata": {
        "id": "DluIcTpx1ZSP"
      },
      "source": [
        "## 4 . Data Preparation"
      ]
    },
    {
      "cell_type": "code",
      "metadata": {
        "id": "PQXe4_1F1_I5"
      },
      "source": [
        "data = train[(train['item']==1) & (train['store']==1)]"
      ],
      "execution_count": null,
      "outputs": []
    },
    {
      "cell_type": "code",
      "metadata": {
        "id": "EpAeu5MP2TxS"
      },
      "source": [
        "data.drop(['store', 'item'], axis =1, inplace = True)\n",
        "data.columns = ['ds', 'y']\n",
        "data.head()"
      ],
      "execution_count": null,
      "outputs": []
    },
    {
      "cell_type": "code",
      "metadata": {
        "id": "qiQuEcir2UXo"
      },
      "source": [
        "data.tail()"
      ],
      "execution_count": null,
      "outputs": []
    },
    {
      "cell_type": "markdown",
      "metadata": {
        "id": "YdU5hJig2wyb"
      },
      "source": [
        "## 5. Forecast Model"
      ]
    },
    {
      "cell_type": "code",
      "metadata": {
        "id": "a2REvvwn3hqK"
      },
      "source": [
        "from fbprophet import Prophet"
      ],
      "execution_count": null,
      "outputs": []
    },
    {
      "cell_type": "code",
      "metadata": {
        "id": "JKKdDh3z3seb"
      },
      "source": [
        "m = Prophet()\n",
        "model = m.fit(data)"
      ],
      "execution_count": null,
      "outputs": []
    },
    {
      "cell_type": "code",
      "metadata": {
        "id": "q6dXgqkX3z5L"
      },
      "source": [
        "future = m.make_future_dataframe(periods=365)\n",
        "future.tail()"
      ],
      "execution_count": null,
      "outputs": []
    },
    {
      "cell_type": "code",
      "metadata": {
        "id": "sQs1UNPx5ANG"
      },
      "source": [
        "forecast = m.predict(future)"
      ],
      "execution_count": null,
      "outputs": []
    },
    {
      "cell_type": "code",
      "metadata": {
        "id": "q5bZScur5P4v"
      },
      "source": [
        "forecast[['ds', 'yhat']].tail()"
      ],
      "execution_count": null,
      "outputs": []
    },
    {
      "cell_type": "code",
      "metadata": {
        "id": "aODXN7Ie5TkX"
      },
      "source": [
        "p1 = m.plot(forecast)"
      ],
      "execution_count": null,
      "outputs": []
    },
    {
      "cell_type": "code",
      "metadata": {
        "id": "hVTWpGKD5r6y"
      },
      "source": [
        "p2 = m.plot_components(forecast)"
      ],
      "execution_count": null,
      "outputs": []
    },
    {
      "cell_type": "code",
      "metadata": {
        "id": "-hnS7Yi95yU4"
      },
      "source": [
        "from fbprophet.plot import add_changepoints_to_plot\n",
        "fig1 = m.plot(forecast)\n",
        "a = add_changepoints_to_plot(fig1.gca(),m, forecast)"
      ],
      "execution_count": null,
      "outputs": []
    },
    {
      "cell_type": "markdown",
      "metadata": {
        "id": "Ra96_dBj6ZyF"
      },
      "source": [
        "# Predict test data"
      ]
    },
    {
      "cell_type": "code",
      "metadata": {
        "id": "appxeUox7Ypy"
      },
      "source": [
        "# prep data\n",
        "test.tail(2)"
      ],
      "execution_count": null,
      "outputs": []
    },
    {
      "cell_type": "code",
      "metadata": {
        "id": "WopqSOND7bwc"
      },
      "source": [
        "future[future['ds'] == '2018-03-31']"
      ],
      "execution_count": null,
      "outputs": []
    },
    {
      "cell_type": "code",
      "metadata": {
        "id": "YuXzmTr18F7-"
      },
      "source": [
        "future.iloc[:2007]"
      ],
      "execution_count": null,
      "outputs": []
    },
    {
      "cell_type": "code",
      "metadata": {
        "id": "JJXAmTDw8tQi"
      },
      "source": [
        "forecast.loc[ : 2007, ['ds', 'yhat']]"
      ],
      "execution_count": null,
      "outputs": []
    },
    {
      "cell_type": "markdown",
      "metadata": {
        "id": "I5YYEr6J8-yM"
      },
      "source": [
        "# Forecast Vitamint"
      ]
    },
    {
      "cell_type": "code",
      "metadata": {
        "id": "honVf3YO9Trk"
      },
      "source": [
        "from google.colab import files\n",
        "files.upload()"
      ],
      "execution_count": null,
      "outputs": []
    },
    {
      "cell_type": "code",
      "metadata": {
        "id": "MMBS1rhS9bg8"
      },
      "source": [
        "df = pd.read_csv('multiTimeline.csv', skiprows=1, parse_dates=['Semana'])"
      ],
      "execution_count": null,
      "outputs": []
    },
    {
      "cell_type": "code",
      "metadata": {
        "id": "FlPgRXl89mmJ"
      },
      "source": [
        "df.head()"
      ],
      "execution_count": null,
      "outputs": []
    },
    {
      "cell_type": "code",
      "metadata": {
        "id": "duFEre9_94Fy"
      },
      "source": [
        "df.dtypes"
      ],
      "execution_count": null,
      "outputs": []
    },
    {
      "cell_type": "code",
      "metadata": {
        "id": "dZgC5RJO97PD"
      },
      "source": [
        "df.columns = ['ds', 'y']\n",
        "df.head()"
      ],
      "execution_count": null,
      "outputs": []
    },
    {
      "cell_type": "code",
      "metadata": {
        "id": "CktHMCsR-SGO"
      },
      "source": [
        "df.isnull().sum()"
      ],
      "execution_count": null,
      "outputs": []
    },
    {
      "cell_type": "code",
      "metadata": {
        "id": "2bWumtLK-Vay"
      },
      "source": [
        "df.tail(2)"
      ],
      "execution_count": null,
      "outputs": []
    },
    {
      "cell_type": "code",
      "metadata": {
        "id": "Ikmwuek4-KlO"
      },
      "source": [
        "# Create model\n",
        "m = Prophet()\n",
        "m.fit(df)"
      ],
      "execution_count": null,
      "outputs": []
    },
    {
      "cell_type": "code",
      "metadata": {
        "id": "iO6nqrla-iaV"
      },
      "source": [
        "future = m.make_future_dataframe(periods=365)\n",
        "forecast = m.predict(future)"
      ],
      "execution_count": null,
      "outputs": []
    },
    {
      "cell_type": "code",
      "metadata": {
        "id": "PExloPox-4XT"
      },
      "source": [
        "fig = m.plot(forecast)"
      ],
      "execution_count": null,
      "outputs": []
    },
    {
      "cell_type": "code",
      "metadata": {
        "id": "86NXYka0_IlL"
      },
      "source": [
        "f = m.plot_components(forecast)"
      ],
      "execution_count": null,
      "outputs": []
    },
    {
      "cell_type": "code",
      "metadata": {
        "id": "RyPG2E1O_938"
      },
      "source": [
        "forecast[['ds', 'yhat']].tail(20)"
      ],
      "execution_count": null,
      "outputs": []
    }
  ]
}