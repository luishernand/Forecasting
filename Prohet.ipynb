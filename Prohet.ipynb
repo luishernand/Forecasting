{
 "cells": [
  {
   "cell_type": "markdown",
   "id": "collective-boards",
   "metadata": {},
   "source": [
    "# Time Series Project"
   ]
  },
  {
   "cell_type": "markdown",
   "id": "confidential-commerce",
   "metadata": {},
   "source": [
    "### 0. Librraries"
   ]
  },
  {
   "cell_type": "code",
   "execution_count": 12,
   "id": "seventh-hospital",
   "metadata": {},
   "outputs": [
    {
     "ename": "ModuleNotFoundError",
     "evalue": "No module named 'fbprophet'",
     "output_type": "error",
     "traceback": [
      "\u001b[1;31m---------------------------------------------------------------------------\u001b[0m",
      "\u001b[1;31mModuleNotFoundError\u001b[0m                       Traceback (most recent call last)",
      "\u001b[1;32m<ipython-input-12-4aea44aab7e5>\u001b[0m in \u001b[0;36m<module>\u001b[1;34m\u001b[0m\n\u001b[0;32m      1\u001b[0m \u001b[1;32mimport\u001b[0m \u001b[0mpandas\u001b[0m \u001b[1;32mas\u001b[0m \u001b[0mpd\u001b[0m\u001b[1;33m\u001b[0m\u001b[1;33m\u001b[0m\u001b[0m\n\u001b[1;32m----> 2\u001b[1;33m \u001b[1;32mfrom\u001b[0m \u001b[0mfbprophet\u001b[0m \u001b[1;32mimport\u001b[0m \u001b[0mProphet\u001b[0m\u001b[1;33m\u001b[0m\u001b[1;33m\u001b[0m\u001b[0m\n\u001b[0m\u001b[0;32m      3\u001b[0m \u001b[1;32mimport\u001b[0m \u001b[0mwarnings\u001b[0m\u001b[1;33m;\u001b[0m\u001b[1;33m\u001b[0m\u001b[1;33m\u001b[0m\u001b[0m\n\u001b[0;32m      4\u001b[0m \u001b[0mwarnings\u001b[0m\u001b[1;33m.\u001b[0m\u001b[0msimplefilter\u001b[0m\u001b[1;33m(\u001b[0m\u001b[1;34m'ignore'\u001b[0m\u001b[1;33m)\u001b[0m\u001b[1;33m\u001b[0m\u001b[1;33m\u001b[0m\u001b[0m\n",
      "\u001b[1;31mModuleNotFoundError\u001b[0m: No module named 'fbprophet'"
     ]
    }
   ],
   "source": [
    "import pandas as pd\n",
    "from fbprophet import Prophet\n",
    "import warnings; \n",
    "warnings.simplefilter('ignore')"
   ]
  },
  {
   "cell_type": "markdown",
   "id": "supreme-childhood",
   "metadata": {},
   "source": [
    "### 1. Read dataset"
   ]
  },
  {
   "cell_type": "code",
   "execution_count": 2,
   "id": "nearby-collective",
   "metadata": {},
   "outputs": [],
   "source": [
    "df = pd.read_csv('dataset.csv')"
   ]
  },
  {
   "cell_type": "code",
   "execution_count": 3,
   "id": "horizontal-owner",
   "metadata": {},
   "outputs": [
    {
     "data": {
      "text/html": [
       "<div>\n",
       "<style scoped>\n",
       "    .dataframe tbody tr th:only-of-type {\n",
       "        vertical-align: middle;\n",
       "    }\n",
       "\n",
       "    .dataframe tbody tr th {\n",
       "        vertical-align: top;\n",
       "    }\n",
       "\n",
       "    .dataframe thead th {\n",
       "        text-align: right;\n",
       "    }\n",
       "</style>\n",
       "<table border=\"1\" class=\"dataframe\">\n",
       "  <thead>\n",
       "    <tr style=\"text-align: right;\">\n",
       "      <th></th>\n",
       "      <th>Time Date</th>\n",
       "      <th>Product</th>\n",
       "      <th>Store</th>\n",
       "      <th>Value</th>\n",
       "    </tr>\n",
       "  </thead>\n",
       "  <tbody>\n",
       "    <tr>\n",
       "      <th>0</th>\n",
       "      <td>1012018</td>\n",
       "      <td>2667437</td>\n",
       "      <td>QLD_CW_ST0203</td>\n",
       "      <td>2926.000</td>\n",
       "    </tr>\n",
       "    <tr>\n",
       "      <th>1</th>\n",
       "      <td>2012018</td>\n",
       "      <td>2667437</td>\n",
       "      <td>QLD_CW_ST0203</td>\n",
       "      <td>2687.531</td>\n",
       "    </tr>\n",
       "    <tr>\n",
       "      <th>2</th>\n",
       "      <td>3012018</td>\n",
       "      <td>2667437</td>\n",
       "      <td>QLD_CW_ST0203</td>\n",
       "      <td>2793.000</td>\n",
       "    </tr>\n",
       "    <tr>\n",
       "      <th>3</th>\n",
       "      <td>4012018</td>\n",
       "      <td>2667437</td>\n",
       "      <td>QLD_CW_ST0203</td>\n",
       "      <td>2394.000</td>\n",
       "    </tr>\n",
       "    <tr>\n",
       "      <th>4</th>\n",
       "      <td>5012018</td>\n",
       "      <td>2667437</td>\n",
       "      <td>QLD_CW_ST0203</td>\n",
       "      <td>2660.000</td>\n",
       "    </tr>\n",
       "  </tbody>\n",
       "</table>\n",
       "</div>"
      ],
      "text/plain": [
       "   Time Date  Product          Store     Value\n",
       "0    1012018  2667437  QLD_CW_ST0203  2926.000\n",
       "1    2012018  2667437  QLD_CW_ST0203  2687.531\n",
       "2    3012018  2667437  QLD_CW_ST0203  2793.000\n",
       "3    4012018  2667437  QLD_CW_ST0203  2394.000\n",
       "4    5012018  2667437  QLD_CW_ST0203  2660.000"
      ]
     },
     "execution_count": 3,
     "metadata": {},
     "output_type": "execute_result"
    }
   ],
   "source": [
    "df.head()"
   ]
  },
  {
   "cell_type": "markdown",
   "id": "oriental-briefing",
   "metadata": {},
   "source": [
    "### 2. Create columns"
   ]
  },
  {
   "cell_type": "code",
   "execution_count": 4,
   "id": "million-lingerie",
   "metadata": {},
   "outputs": [],
   "source": [
    "df['yeaar'] = df['Time Date'].apply(lambda x: str(x)[-4 : ])\n",
    "df['Month'] =df['Time Date'].apply(lambda x: str(x)[-6:-4])\n",
    "df['day'] = df['Time Date'].apply(lambda x: str(x)[:-6])"
   ]
  },
  {
   "cell_type": "code",
   "execution_count": 5,
   "id": "unnecessary-latter",
   "metadata": {},
   "outputs": [
    {
     "data": {
      "text/html": [
       "<div>\n",
       "<style scoped>\n",
       "    .dataframe tbody tr th:only-of-type {\n",
       "        vertical-align: middle;\n",
       "    }\n",
       "\n",
       "    .dataframe tbody tr th {\n",
       "        vertical-align: top;\n",
       "    }\n",
       "\n",
       "    .dataframe thead th {\n",
       "        text-align: right;\n",
       "    }\n",
       "</style>\n",
       "<table border=\"1\" class=\"dataframe\">\n",
       "  <thead>\n",
       "    <tr style=\"text-align: right;\">\n",
       "      <th></th>\n",
       "      <th>Time Date</th>\n",
       "      <th>Product</th>\n",
       "      <th>Store</th>\n",
       "      <th>Value</th>\n",
       "      <th>yeaar</th>\n",
       "      <th>Month</th>\n",
       "      <th>day</th>\n",
       "    </tr>\n",
       "  </thead>\n",
       "  <tbody>\n",
       "    <tr>\n",
       "      <th>0</th>\n",
       "      <td>1012018</td>\n",
       "      <td>2667437</td>\n",
       "      <td>QLD_CW_ST0203</td>\n",
       "      <td>2926.000</td>\n",
       "      <td>2018</td>\n",
       "      <td>01</td>\n",
       "      <td>1</td>\n",
       "    </tr>\n",
       "    <tr>\n",
       "      <th>1</th>\n",
       "      <td>2012018</td>\n",
       "      <td>2667437</td>\n",
       "      <td>QLD_CW_ST0203</td>\n",
       "      <td>2687.531</td>\n",
       "      <td>2018</td>\n",
       "      <td>01</td>\n",
       "      <td>2</td>\n",
       "    </tr>\n",
       "  </tbody>\n",
       "</table>\n",
       "</div>"
      ],
      "text/plain": [
       "   Time Date  Product          Store     Value yeaar Month day\n",
       "0    1012018  2667437  QLD_CW_ST0203  2926.000  2018    01   1\n",
       "1    2012018  2667437  QLD_CW_ST0203  2687.531  2018    01   2"
      ]
     },
     "execution_count": 5,
     "metadata": {},
     "output_type": "execute_result"
    }
   ],
   "source": [
    "df.head(2)"
   ]
  },
  {
   "cell_type": "code",
   "execution_count": 8,
   "id": "christian-fields",
   "metadata": {},
   "outputs": [
    {
     "data": {
      "text/html": [
       "<div>\n",
       "<style scoped>\n",
       "    .dataframe tbody tr th:only-of-type {\n",
       "        vertical-align: middle;\n",
       "    }\n",
       "\n",
       "    .dataframe tbody tr th {\n",
       "        vertical-align: top;\n",
       "    }\n",
       "\n",
       "    .dataframe thead th {\n",
       "        text-align: right;\n",
       "    }\n",
       "</style>\n",
       "<table border=\"1\" class=\"dataframe\">\n",
       "  <thead>\n",
       "    <tr style=\"text-align: right;\">\n",
       "      <th></th>\n",
       "      <th>Time Date</th>\n",
       "      <th>Product</th>\n",
       "      <th>Store</th>\n",
       "      <th>Value</th>\n",
       "      <th>yeaar</th>\n",
       "      <th>Month</th>\n",
       "      <th>day</th>\n",
       "      <th>ds</th>\n",
       "    </tr>\n",
       "  </thead>\n",
       "  <tbody>\n",
       "    <tr>\n",
       "      <th>0</th>\n",
       "      <td>1012018</td>\n",
       "      <td>2667437</td>\n",
       "      <td>QLD_CW_ST0203</td>\n",
       "      <td>2926.000</td>\n",
       "      <td>2018</td>\n",
       "      <td>01</td>\n",
       "      <td>1</td>\n",
       "      <td>2018-01-01</td>\n",
       "    </tr>\n",
       "    <tr>\n",
       "      <th>1</th>\n",
       "      <td>2012018</td>\n",
       "      <td>2667437</td>\n",
       "      <td>QLD_CW_ST0203</td>\n",
       "      <td>2687.531</td>\n",
       "      <td>2018</td>\n",
       "      <td>01</td>\n",
       "      <td>2</td>\n",
       "      <td>2018-01-02</td>\n",
       "    </tr>\n",
       "  </tbody>\n",
       "</table>\n",
       "</div>"
      ],
      "text/plain": [
       "   Time Date  Product          Store     Value yeaar Month day         ds\n",
       "0    1012018  2667437  QLD_CW_ST0203  2926.000  2018    01   1 2018-01-01\n",
       "1    2012018  2667437  QLD_CW_ST0203  2687.531  2018    01   2 2018-01-02"
      ]
     },
     "execution_count": 8,
     "metadata": {},
     "output_type": "execute_result"
    }
   ],
   "source": [
    "df['ds'] = pd.DatetimeIndex(df['yeaar']+'-'+df['Month']+'-'+df['day'])\n",
    "df.head(2)"
   ]
  },
  {
   "cell_type": "code",
   "execution_count": 11,
   "id": "agricultural-motel",
   "metadata": {},
   "outputs": [],
   "source": [
    "trainig_set = df[['day','ds']]"
   ]
  },
  {
   "cell_type": "code",
   "execution_count": null,
   "id": "naked-alberta",
   "metadata": {},
   "outputs": [],
   "source": [
    "traini"
   ]
  }
 ],
 "metadata": {
  "kernelspec": {
   "display_name": "Python 3",
   "language": "python",
   "name": "python3"
  },
  "language_info": {
   "codemirror_mode": {
    "name": "ipython",
    "version": 3
   },
   "file_extension": ".py",
   "mimetype": "text/x-python",
   "name": "python",
   "nbconvert_exporter": "python",
   "pygments_lexer": "ipython3",
   "version": "3.8.5"
  }
 },
 "nbformat": 4,
 "nbformat_minor": 5
}
